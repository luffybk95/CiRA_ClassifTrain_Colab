{
  "nbformat": 4,
  "nbformat_minor": 0,
  "metadata": {
    "colab": {
      "provenance": [],
      "include_colab_link": true
    },
    "kernelspec": {
      "name": "python3",
      "display_name": "Python 3"
    },
    "language_info": {
      "name": "python"
    },
    "accelerator": "GPU",
    "gpuClass": "standard"
  },
  "cells": [
    {
      "cell_type": "markdown",
      "metadata": {
        "id": "view-in-github",
        "colab_type": "text"
      },
      "source": [
        "<a href=\"https://colab.research.google.com/github/luffybk95/CiRA_ClassifTrain_Colab/blob/main/CiRA_ClassifTrain_Colab.ipynb\" target=\"_parent\"><img src=\"https://colab.research.google.com/assets/colab-badge.svg\" alt=\"Open In Colab\"/></a>"
      ]
    },
    {
      "cell_type": "code",
      "execution_count": 1,
      "metadata": {
        "id": "ILdApS51Fgtp"
      },
      "outputs": [],
      "source": [
        "import subprocess\n",
        "ret = subprocess.call(['bash', '-c', 'wget -O  cira_classiftrain_colab.py https://raw.githubusercontent.com/CiRA-AMI/cira-colab-trainer/main/cira_classiftrain_colab.py'])"
      ]
    },
    {
      "cell_type": "code",
      "source": [
        "%run cira_classiftrain_colab.py"
      ],
      "metadata": {
        "id": "4IW1RMbPVKoi"
      },
      "execution_count": null,
      "outputs": []
    }
  ]
}